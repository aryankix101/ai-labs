{
 "cells": [
  {
   "cell_type": "code",
   "execution_count": 1,
   "id": "pregnant-trance",
   "metadata": {},
   "outputs": [
    {
     "name": "stdout",
     "output_type": "stream",
     "text": [
      "--  -----\n",
      " 0      0\n",
      " 1  47328\n",
      " 2   7186\n",
      " 3   1146\n",
      " 4    265\n",
      " 5     87\n",
      " 6     27\n",
      " 7     12\n",
      " 8      1\n",
      " 9      1\n",
      "10      2\n",
      "--  -----\n",
      "[('The', 'AT'), ('Fulton', 'NP-TL'), ('County', 'NN-TL'), ('Grand', 'JJ-TL'), ('Jury', 'NN-TL'), ('said', 'VBD'), ('Friday', 'NR'), ('an', 'AT'), ('investigation', 'NN'), ('of', 'IN'), (\"Atlanta's\", 'NP$'), ('recent', 'JJ'), ('primary', 'NN'), ('election', 'NN'), ('produced', 'VBD'), ('``', '``'), ('no', 'AT'), ('evidence', 'NN'), (\"''\", \"''\"), ('that', 'CS'), ('any', 'DTI'), ('irregularities', 'NNS'), ('took', 'VBD'), ('place', 'NN'), ('.', '.')]\n",
      "************\n",
      "[('Regarding', 'IN'), (\"Atlanta's\", 'NP$'), ('new', 'JJ'), ('multi-million-dollar', 'JJ'), ('airport', 'NN'), (',', ','), ('the', 'AT'), ('jury', 'NN'), ('recommended', 'VBD'), ('``', '``'), ('that', 'CS'), ('when', 'WRB'), ('the', 'AT'), ('new', 'JJ'), ('management', 'NN'), ('takes', 'VBZ'), ('charge', 'NN'), ('Jan.', 'NP'), ('1', 'CD'), ('the', 'AT'), ('airport', 'NN'), ('be', 'BE'), ('operated', 'VBN'), ('in', 'IN'), ('a', 'AT'), ('manner', 'NN'), ('that', 'WPS'), ('will', 'MD'), ('eliminate', 'VB'), ('political', 'JJ'), ('influences', 'NNS'), (\"''\", \"''\"), ('.', '.')]\n",
      "************\n",
      "[('``', '``'), ('Actually', 'RB'), (',', ','), ('the', 'AT'), ('abuse', 'NN'), ('of', 'IN'), ('the', 'AT'), ('process', 'NN'), ('may', 'MD'), ('have', 'HV'), ('constituted', 'VBN'), ('a', 'AT'), ('contempt', 'NN'), ('of', 'IN'), ('the', 'AT'), ('Criminal', 'JJ-TL'), ('court', 'NN-TL'), ('of', 'IN-TL'), ('Cook', 'NP'), ('county', 'NN'), (',', ','), ('altho', 'CS'), ('vindication', 'NN'), ('of', 'IN'), ('the', 'AT'), ('authority', 'NN'), ('of', 'IN'), ('that', 'DT'), ('court', 'NN'), ('is', 'BEZ'), ('not', '*'), ('the', 'AT'), ('function', 'NN'), ('of', 'IN'), ('this', 'DT'), ('court', 'NN'), (\"''\", \"''\"), (',', ','), ('said', 'VBD'), ('Karns', 'NP'), (',', ','), ('who', 'WPS'), ('is', 'BEZ'), ('a', 'AT'), ('City', 'NN-TL'), ('judge', 'NN'), ('in', 'IN'), ('East', 'JJ-TL'), ('St.', 'NP-TL'), ('Louis', 'NP-TL'), ('sitting', 'VBG'), ('in', 'IN'), ('Cook', 'NP-TL'), ('County', 'NN-TL'), ('court', 'NN-TL'), ('.', '.')]\n",
      "************\n",
      "[('While', 'CS'), ('the', 'AT'), ('city', 'NN'), ('council', 'NN'), ('suggested', 'VBD'), ('that', 'CS'), ('the', 'AT'), ('Legislative', 'JJ-TL'), ('Council', 'NN-TL'), ('might', 'MD'), ('perform', 'VB'), ('the', 'AT'), ('review', 'NN'), (',', ','), ('Mr.', 'NP'), ('Notte', 'NP'), ('said', 'VBD'), ('that', 'QL'), ('instead', 'RB'), ('he', 'PPS'), ('will', 'MD'), ('take', 'VB'), ('up', 'RP'), ('the', 'AT'), ('matter', 'NN'), ('with', 'IN'), ('Atty.', 'NN-TL'), ('Gen.', 'JJ-TL'), ('J.', 'NP'), ('Joseph', 'NP'), ('Nugent', 'NP'), ('to', 'TO'), ('get', 'VB'), ('``', '``'), ('the', 'AT'), ('benefit', 'NN'), ('of', 'IN'), ('his', 'PP$'), ('views', 'VBZ'), (\"''\", \"''\"), ('.', '.')]\n",
      "************\n",
      "[('He', 'PPS'), ('was', 'BEDZ'), ('able', 'JJ'), ('to', 'TO'), ('smell', 'VB'), ('a', 'AT'), ('bargain', 'NN'), ('--', '--'), ('and', 'CC'), ('a', 'AT'), ('masterpiece', 'NN'), ('--', '--'), ('a', 'AT'), ('continent', 'NN'), ('away', 'RB'), (',', ','), ('and', 'CC'), ('the', 'AT'), ('Museum', 'NN-TL'), ('of', 'IN-TL'), ('Modern', 'JJ-TL'), (\"Art's\", 'NN$-TL'), ('Alfred', 'NP'), ('Barr', 'NP'), ('said', 'VBD'), ('of', 'IN'), ('him', 'PPO'), (':', ':'), ('``', '``'), ('I', 'PPSS'), ('have', 'HV'), ('never', 'RB'), ('mentioned', 'VBN'), ('a', 'AT'), ('new', 'JJ'), ('artist', 'NN'), ('that', 'WPO'), ('Thompson', 'NP'), (\"didn't\", 'DOD*'), ('know', 'VB'), ('about', 'IN'), (\"''\", \"''\"), ('.', '.')]\n",
      "************\n",
      "[('According', 'IN'), ('to', 'IN'), ('the', 'AT'), ('official', 'JJ'), ('interpretation', 'NN'), ('of', 'IN'), ('the', 'AT'), ('Charter', 'NN-TL'), (',', ','), ('a', 'AT'), ('member', 'NN'), ('cannot', 'MD*'), ('be', 'BE'), ('penalized', 'VBN'), ('by', 'IN'), ('not', '*'), ('having', 'HVG'), ('the', 'AT'), ('right', 'NN'), ('to', 'TO'), ('vote', 'VB'), ('in', 'IN'), ('the', 'AT'), ('General', 'JJ-TL'), ('Assembly', 'NN-TL'), ('for', 'IN'), ('nonpayment', 'NN'), ('of', 'IN'), ('financial', 'JJ'), ('obligations', 'NNS'), ('to', 'IN'), ('the', 'AT'), ('``', '``'), ('special', 'JJ'), (\"''\", \"''\"), ('United', 'VBN-TL'), (\"Nations'\", 'NNS$-TL'), ('budgets', 'NNS'), (',', ','), ('and', 'CC'), ('of', 'IN'), ('course', 'NN'), ('cannot', 'MD*'), ('be', 'BE'), ('expelled', 'VBN'), ('from', 'IN'), ('the', 'AT'), ('Organization', 'NN-TL'), ('(', '('), ('which', 'WDT'), ('you', 'PPSS'), ('suggested', 'VBD'), ('in', 'IN'), ('your', 'PP$'), ('editorial', 'NN'), (')', ')'), (',', ','), ('due', 'RB'), ('to', 'IN-HL'), ('the', 'AT-HL'), ('fact', 'NN-HL'), ('that', 'CS-HL'), ('there', 'EX'), ('is', 'BEZ'), ('no', 'AT'), ('provision', 'NN'), ('in', 'IN'), ('the', 'AT'), ('Charter', 'NN-TL'), ('for', 'IN'), ('expulsion', 'NN'), ('.', '.')]\n",
      "************\n",
      "[('He', 'PPS'), ('has', 'HVZ'), ('his', 'PP$'), ('own', 'JJ'), ('system', 'NN'), ('of', 'IN'), ('shorthand', 'NN'), (',', ','), ('devised', 'VBN'), ('by', 'IN'), ('abbreviations', 'NNS'), (':', ':'), ('``', '``'), ('humility', 'NN'), (\"''\", \"''\"), ('will', 'MD'), ('be', 'BE'), ('``', '``'), ('humly', 'NN-NC'), (\"''\", \"''\"), (',', ','), ('``', '``'), ('with', 'IN-NC'), (\"''\", \"''\"), ('will', 'MD'), ('be', 'BE'), ('``', '``'), ('w', 'NN'), (\"''\", \"''\"), (',', ','), ('and', 'CC'), ('``', '``'), ('that', 'DT-NC'), (\"''\", \"''\"), ('will', 'MD'), ('be', 'BE'), ('``', '``'), ('tt', 'NN'), (\"''\", \"''\"), ('.', '.')]\n",
      "************\n",
      "[('Thus', 'NIL'), (',', ','), ('as', 'NIL'), ('a', 'NIL'), ('development', 'NIL'), ('program', 'NIL'), ('is', 'NIL'), ('being', 'NIL'), ('launched', 'NIL'), (',', ','), ('commitments', 'NIL'), ('and', 'NIL'), ('obligations', 'NIL'), ('must', 'NIL'), ('be', 'NIL'), ('entered', 'NIL'), ('into', 'NIL'), ('in', 'NIL'), ('a', 'NIL'), ('given', 'NIL'), ('year', 'NIL'), ('which', 'NIL'), ('may', 'NIL'), ('exceed', 'NIL'), ('by', 'NIL'), ('twofold', 'NIL'), ('or', 'NIL'), ('threefold', 'NIL'), ('the', 'NIL'), ('expenditures', 'NIL'), ('to', 'NIL'), ('be', 'NIL'), ('made', 'NIL'), ('in', 'NIL'), ('that', 'NIL'), ('year', 'NIL'), ('.', '.')]\n",
      "************\n",
      "[('In', 'IN'), ('of', 'IN-NC'), ('all', 'ABN-NC'), ('the', 'AT-NC'), ('suggestions', 'NNS-NC'), ('that', 'WPS-NC'), ('were', 'BED-NC'), ('made', 'VBN-NC'), (',', ',-NC'), ('his', 'PP$-NC'), ('was', 'BEDZ-NC'), ('the', 'AT-NC'), ('silliest', 'JJT-NC'), ('the', 'AT'), ('possessive', 'NN'), ('his', 'PP$-NC'), ('represents', 'VBZ'), ('his', 'PP$-NC'), ('suggestion', 'NN-NC'), ('and', 'CC'), ('is', 'BEZ'), ('stressed', 'VBN'), ('.', '.')]\n",
      "************\n",
      "[('Thus', 'RB'), ('to', 'IN-NC'), ('has', 'HVZ'), ('light', 'JJ'), ('stress', 'NN'), ('both', 'ABX'), ('in', 'IN'), ('that', 'DT-NC'), ('was', 'BEDZ-NC'), ('the', 'AT-NC'), ('conclusion', 'NN-NC'), ('that', 'WPO-NC'), ('I', 'PPSS-NC'), ('came', 'VBD-NC'), ('to', 'IN-NC'), ('and', 'CC'), ('in', 'IN'), ('that', 'DT-NC'), ('was', 'BEDZ-NC'), ('the', 'AT-NC'), ('conclusion', 'NN-NC'), ('I', 'PPSS-NC'), ('came', 'VBD-NC'), ('to', 'IN-NC'), ('.', '.')]\n",
      "************\n",
      "[('But', 'CC'), ('when', 'WRB'), ('to', 'TO-NC'), ('represents', 'VBZ'), ('to', 'IN-NC'), ('consciousness', 'NN-NC'), ('in', 'IN'), ('that', 'WPS-NC'), ('was', 'BEDZ-NC'), ('the', 'AT-NC'), ('moment', 'NN-NC'), ('that', 'CS-NC'), ('I', 'PPSS-NC'), ('came', 'VBD-NC'), ('to', 'IN-NC'), (',', ','), ('and', 'CC'), ('similarly', 'RB'), ('in', 'IN'), ('that', 'WPS-NC'), ('was', 'BEDZ-NC'), ('the', 'AT-NC'), ('moment', 'NN-NC'), ('I', 'PPSS-NC'), ('came', 'VBD-NC'), ('to', 'IN-NC'), (',', ','), ('there', 'EX'), ('is', 'BEZ'), ('much', 'QL'), ('stronger', 'JJR'), ('stress', 'NN'), ('on', 'IN'), ('to', 'IN-NC'), ('.', '.')]\n",
      "************\n",
      "[('Factors', 'NNS-HL'), ('that', 'WPS-HL'), ('inhibit', 'VB-HL'), ('learning', 'VBG-HL'), ('and', 'CC-HL'), ('lead', 'VB-HL'), ('to', 'IN-HL'), ('maladjustment', 'NN-HL')]\n",
      "************\n"
     ]
    }
   ],
   "source": [
    "# ★ There are 264 distinct words in the Brown Corpus having exactly three possible tags.\n",
    "# Print a table with the integers 1..10 in one column, and the number of distinct words in the corpus having 1..10 distinct tags in the other column.\n",
    "\n",
    "# For the word with the greatest number of distinct tags, print out sentences from the corpus containing the word, one for each possible tag.\n",
    "\n",
    "import nltk\n",
    "from nltk.corpus import brown\n",
    "from tabulate import tabulate\n",
    "\n",
    "tags = brown.tagged_words()\n",
    "cfd = nltk.ConditionalFreqDist(tags)\n",
    "\n",
    "num_tags = []\n",
    "for condition in cfd.conditions():\n",
    "    num_tags.append((condition, len(cfd[condition])))\n",
    "\n",
    "tags_by_num = []\n",
    "\n",
    "for i in range(11):\n",
    "    this_num = 0\n",
    "    for (word, num) in num_tags:\n",
    "        if num == i:\n",
    "            this_num += 1\n",
    "    tags_by_num.append((i, this_num))\n",
    "\n",
    "# prints a table of the integers 1-10 and the numbers of distinct words in the corpus that have those numbers of distinct tags\n",
    "\n",
    "print(tabulate(tags_by_num))\n",
    "\n",
    "# \"that\" is the word with the most distinct tags.\n",
    "distinct_tags = [tag for tag in cfd['that']]\n",
    "\n",
    "tagged_sents = brown.tagged_sents()\n",
    "\n",
    "# go through each sentence in the corpus. \n",
    "# go through each tag in the sentence\n",
    "\n",
    "for sent in tagged_sents:\n",
    "    for (word, tag) in sent:\n",
    "        for distinct_tag in distinct_tags:\n",
    "            if distinct_tag == tag and (word == 'That' or word == 'that'):\n",
    "                print(sent)\n",
    "                distinct_tags.remove(distinct_tag)\n",
    "                print(\"************\")\n",
    "                break"
   ]
  },
  {
   "cell_type": "code",
   "execution_count": null,
   "id": "suitable-dating",
   "metadata": {},
   "outputs": [],
   "source": []
  },
  {
   "cell_type": "code",
   "execution_count": null,
   "id": "handmade-conference",
   "metadata": {
    "tags": []
   },
   "outputs": [],
   "source": []
  },
  {
   "cell_type": "code",
   "execution_count": null,
   "id": "mobile-horizontal",
   "metadata": {},
   "outputs": [],
   "source": []
  },
  {
   "cell_type": "code",
   "execution_count": null,
   "id": "selective-region",
   "metadata": {},
   "outputs": [],
   "source": []
  }
 ],
 "metadata": {
  "kernelspec": {
   "display_name": "Python 3",
   "language": "python",
   "name": "python3"
  },
  "language_info": {
   "codemirror_mode": {
    "name": "ipython",
    "version": 3
   },
   "file_extension": ".py",
   "mimetype": "text/x-python",
   "name": "python",
   "nbconvert_exporter": "python",
   "pygments_lexer": "ipython3",
   "version": "3.8.5"
  }
 },
 "nbformat": 4,
 "nbformat_minor": 5
}
