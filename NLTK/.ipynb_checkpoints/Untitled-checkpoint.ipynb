{
 "cells": [
  {
   "cell_type": "code",
   "execution_count": null,
   "id": "pregnant-trance",
   "metadata": {},
   "outputs": [],
   "source": [
    "# ★ There are 264 distinct words in the Brown Corpus having exactly three possible tags.\n",
    "# Print a table with the integers 1..10 in one column, and the number of distinct words in the corpus having 1..10 distinct tags in the other column.\n",
    "\n",
    "# For the word with the greatest number of distinct tags, print out sentences from the corpus containing the word, one for each possible tag.\n",
    "\n",
    "import nltk\n",
    "from nltk.corpus import brown\n",
    "from tabulate import tabulate\n",
    "\n",
    "tags = brown.tagged_words()\n",
    "cfd = nltk.ConditionalFreqDist(tags)\n",
    "\n",
    "num_tags = []\n",
    "for condition in cfd.conditions():\n",
    "    num_tags.append((condition, len(cfd[condition])))\n",
    "\n",
    "tags_by_num = []\n",
    "\n",
    "for i in range(11):\n",
    "    this_num = 0\n",
    "    for (word, num) in num_tags:\n",
    "        if num == i:\n",
    "            this_num += 1\n",
    "    tags_by_num.append((i, this_num))\n",
    "\n",
    "# prints a table of the integers 1-10 and the numbers of distinct words in the corpus that have those numbers of distinct tags\n",
    "\n",
    "print(tabulate(tags_by_num))\n",
    "\n",
    "# \"that\" is the word with the most distinct tags.\n",
    "distinct_tags = [tag for tag in cfd['that']]\n",
    "\n",
    "tagged_sents = brown.tagged_sents()\n",
    "\n",
    "# go through each sentence in the corpus. \n",
    "# go through each tag in the sentence\n",
    "\n",
    "for sent in tagged_sents:\n",
    "    for (word, tag) in sent:\n",
    "        for distinct_tag in distinct_tags:\n",
    "            if distinct_tag == tag and (word == 'That' or word == 'that'):\n",
    "                print(sent)\n",
    "                distinct_tags.remove(distinct_tag)\n",
    "                print(\"************\")\n",
    "                break"
   ]
  },
  {
   "cell_type": "code",
   "execution_count": null,
   "id": "suitable-dating",
   "metadata": {},
   "outputs": [],
   "source": []
  },
  {
   "cell_type": "code",
   "execution_count": null,
   "id": "handmade-conference",
   "metadata": {
    "tags": []
   },
   "outputs": [],
   "source": []
  },
  {
   "cell_type": "code",
   "execution_count": null,
   "id": "mobile-horizontal",
   "metadata": {},
   "outputs": [],
   "source": []
  },
  {
   "cell_type": "code",
   "execution_count": null,
   "id": "selective-region",
   "metadata": {},
   "outputs": [],
   "source": []
  }
 ],
 "metadata": {
  "kernelspec": {
   "display_name": "Python 3",
   "language": "python",
   "name": "python3"
  },
  "language_info": {
   "codemirror_mode": {
    "name": "ipython",
    "version": 3
   },
   "file_extension": ".py",
   "mimetype": "text/x-python",
   "name": "python",
   "nbconvert_exporter": "python",
   "pygments_lexer": "ipython3",
   "version": "3.8.5"
  }
 },
 "nbformat": 4,
 "nbformat_minor": 5
}
